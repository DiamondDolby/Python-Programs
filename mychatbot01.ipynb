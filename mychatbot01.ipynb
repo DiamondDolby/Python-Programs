{
  "nbformat": 4,
  "nbformat_minor": 0,
  "metadata": {
    "colab": {
      "provenance": [],
      "include_colab_link": true
    },
    "kernelspec": {
      "name": "python3",
      "display_name": "Python 3"
    },
    "language_info": {
      "name": "python"
    }
  },
  "cells": [
    {
      "cell_type": "markdown",
      "metadata": {
        "id": "view-in-github",
        "colab_type": "text"
      },
      "source": [
        "<a href=\"https://colab.research.google.com/github/DiamondDolby/Python-Programs/blob/main/mychatbot01.ipynb\" target=\"_parent\"><img src=\"https://colab.research.google.com/assets/colab-badge.svg\" alt=\"Open In Colab\"/></a>"
      ]
    },
    {
      "cell_type": "markdown",
      "source": [
        "**Building a Chatbot Using ChatterBot in Python**"
      ],
      "metadata": {
        "id": "XfhDBsISMNad"
      }
    },
    {
      "cell_type": "markdown",
      "source": [
        "ChatterBot is a Python library that allows you to create machine-learning-based conversational dialog engines. It can generate responses based on collections of known conversations and can be trained to speak any language [Ref 1 & 2]"
      ],
      "metadata": {
        "id": "3CsHqY0VMYuo"
      }
    },
    {
      "cell_type": "markdown",
      "source": [
        "**References:**\n",
        "\n",
        "[1] ChatterBot · PyPI\n",
        "https://pypi.org/project/ChatterBot/\n",
        "\n",
        "[2] ChatterBot: Build a Chatbot With Python – Real Python\n",
        "https://realpython.com/build-a-chatbot-python-chatterbot/\n",
        "\n",
        "[3] Python Chatterbot: How to Make a Chatbot using Python | DataCa…\n",
        "https://www.datacamp.com/tutorial/building-a-chatbot-using-chatterbot"
      ],
      "metadata": {
        "id": "dhJCnmDyMEDg"
      }
    },
    {
      "cell_type": "markdown",
      "source": [
        "**Installation**\n",
        "\n",
        "To install ChatterBot, you can use pip:"
      ],
      "metadata": {
        "id": "ZaGcC4RtMrBj"
      }
    },
    {
      "cell_type": "code",
      "execution_count": null,
      "metadata": {
        "colab": {
          "base_uri": "https://localhost:8080/"
        },
        "id": "SvnBya-aLx0X",
        "outputId": "adc10d03-3f02-4ff9-f537-f71888b1f6ef",
        "collapsed": true
      },
      "outputs": [
        {
          "output_type": "stream",
          "name": "stdout",
          "text": [
            "Collecting chatterbot\n",
            "  Downloading chatterbot-1.2.7-py3-none-any.whl.metadata (7.3 kB)\n",
            "Collecting mathparse<0.2,>=0.1 (from chatterbot)\n",
            "  Downloading mathparse-0.1.5-py3-none-any.whl.metadata (2.0 kB)\n",
            "Requirement already satisfied: python-dateutil<2.10,>=2.9 in /usr/local/lib/python3.11/dist-packages (from chatterbot) (2.9.0.post0)\n",
            "Requirement already satisfied: sqlalchemy<2.1,>=2.0 in /usr/local/lib/python3.11/dist-packages (from chatterbot) (2.0.41)\n",
            "Requirement already satisfied: spacy<3.9,>=3.8 in /usr/local/lib/python3.11/dist-packages (from chatterbot) (3.8.7)\n",
            "Requirement already satisfied: tqdm in /usr/local/lib/python3.11/dist-packages (from chatterbot) (4.67.1)\n",
            "Requirement already satisfied: six>=1.5 in /usr/local/lib/python3.11/dist-packages (from python-dateutil<2.10,>=2.9->chatterbot) (1.17.0)\n",
            "Requirement already satisfied: spacy-legacy<3.1.0,>=3.0.11 in /usr/local/lib/python3.11/dist-packages (from spacy<3.9,>=3.8->chatterbot) (3.0.12)\n",
            "Requirement already satisfied: spacy-loggers<2.0.0,>=1.0.0 in /usr/local/lib/python3.11/dist-packages (from spacy<3.9,>=3.8->chatterbot) (1.0.5)\n",
            "Requirement already satisfied: murmurhash<1.1.0,>=0.28.0 in /usr/local/lib/python3.11/dist-packages (from spacy<3.9,>=3.8->chatterbot) (1.0.13)\n",
            "Requirement already satisfied: cymem<2.1.0,>=2.0.2 in /usr/local/lib/python3.11/dist-packages (from spacy<3.9,>=3.8->chatterbot) (2.0.11)\n",
            "Requirement already satisfied: preshed<3.1.0,>=3.0.2 in /usr/local/lib/python3.11/dist-packages (from spacy<3.9,>=3.8->chatterbot) (3.0.10)\n",
            "Requirement already satisfied: thinc<8.4.0,>=8.3.4 in /usr/local/lib/python3.11/dist-packages (from spacy<3.9,>=3.8->chatterbot) (8.3.6)\n",
            "Requirement already satisfied: wasabi<1.2.0,>=0.9.1 in /usr/local/lib/python3.11/dist-packages (from spacy<3.9,>=3.8->chatterbot) (1.1.3)\n",
            "Requirement already satisfied: srsly<3.0.0,>=2.4.3 in /usr/local/lib/python3.11/dist-packages (from spacy<3.9,>=3.8->chatterbot) (2.5.1)\n",
            "Requirement already satisfied: catalogue<2.1.0,>=2.0.6 in /usr/local/lib/python3.11/dist-packages (from spacy<3.9,>=3.8->chatterbot) (2.0.10)\n",
            "Requirement already satisfied: weasel<0.5.0,>=0.1.0 in /usr/local/lib/python3.11/dist-packages (from spacy<3.9,>=3.8->chatterbot) (0.4.1)\n",
            "Requirement already satisfied: typer<1.0.0,>=0.3.0 in /usr/local/lib/python3.11/dist-packages (from spacy<3.9,>=3.8->chatterbot) (0.16.0)\n",
            "Requirement already satisfied: numpy>=1.19.0 in /usr/local/lib/python3.11/dist-packages (from spacy<3.9,>=3.8->chatterbot) (2.0.2)\n",
            "Requirement already satisfied: requests<3.0.0,>=2.13.0 in /usr/local/lib/python3.11/dist-packages (from spacy<3.9,>=3.8->chatterbot) (2.32.3)\n",
            "Requirement already satisfied: pydantic!=1.8,!=1.8.1,<3.0.0,>=1.7.4 in /usr/local/lib/python3.11/dist-packages (from spacy<3.9,>=3.8->chatterbot) (2.11.7)\n",
            "Requirement already satisfied: jinja2 in /usr/local/lib/python3.11/dist-packages (from spacy<3.9,>=3.8->chatterbot) (3.1.6)\n",
            "Requirement already satisfied: setuptools in /usr/local/lib/python3.11/dist-packages (from spacy<3.9,>=3.8->chatterbot) (75.2.0)\n",
            "Requirement already satisfied: packaging>=20.0 in /usr/local/lib/python3.11/dist-packages (from spacy<3.9,>=3.8->chatterbot) (24.2)\n",
            "Requirement already satisfied: langcodes<4.0.0,>=3.2.0 in /usr/local/lib/python3.11/dist-packages (from spacy<3.9,>=3.8->chatterbot) (3.5.0)\n",
            "Requirement already satisfied: greenlet>=1 in /usr/local/lib/python3.11/dist-packages (from sqlalchemy<2.1,>=2.0->chatterbot) (3.2.3)\n",
            "Requirement already satisfied: typing-extensions>=4.6.0 in /usr/local/lib/python3.11/dist-packages (from sqlalchemy<2.1,>=2.0->chatterbot) (4.14.1)\n",
            "Requirement already satisfied: language-data>=1.2 in /usr/local/lib/python3.11/dist-packages (from langcodes<4.0.0,>=3.2.0->spacy<3.9,>=3.8->chatterbot) (1.3.0)\n",
            "Requirement already satisfied: annotated-types>=0.6.0 in /usr/local/lib/python3.11/dist-packages (from pydantic!=1.8,!=1.8.1,<3.0.0,>=1.7.4->spacy<3.9,>=3.8->chatterbot) (0.7.0)\n",
            "Requirement already satisfied: pydantic-core==2.33.2 in /usr/local/lib/python3.11/dist-packages (from pydantic!=1.8,!=1.8.1,<3.0.0,>=1.7.4->spacy<3.9,>=3.8->chatterbot) (2.33.2)\n",
            "Requirement already satisfied: typing-inspection>=0.4.0 in /usr/local/lib/python3.11/dist-packages (from pydantic!=1.8,!=1.8.1,<3.0.0,>=1.7.4->spacy<3.9,>=3.8->chatterbot) (0.4.1)\n",
            "Requirement already satisfied: charset-normalizer<4,>=2 in /usr/local/lib/python3.11/dist-packages (from requests<3.0.0,>=2.13.0->spacy<3.9,>=3.8->chatterbot) (3.4.2)\n",
            "Requirement already satisfied: idna<4,>=2.5 in /usr/local/lib/python3.11/dist-packages (from requests<3.0.0,>=2.13.0->spacy<3.9,>=3.8->chatterbot) (3.10)\n",
            "Requirement already satisfied: urllib3<3,>=1.21.1 in /usr/local/lib/python3.11/dist-packages (from requests<3.0.0,>=2.13.0->spacy<3.9,>=3.8->chatterbot) (2.4.0)\n",
            "Requirement already satisfied: certifi>=2017.4.17 in /usr/local/lib/python3.11/dist-packages (from requests<3.0.0,>=2.13.0->spacy<3.9,>=3.8->chatterbot) (2025.7.14)\n",
            "Requirement already satisfied: blis<1.4.0,>=1.3.0 in /usr/local/lib/python3.11/dist-packages (from thinc<8.4.0,>=8.3.4->spacy<3.9,>=3.8->chatterbot) (1.3.0)\n",
            "Requirement already satisfied: confection<1.0.0,>=0.0.1 in /usr/local/lib/python3.11/dist-packages (from thinc<8.4.0,>=8.3.4->spacy<3.9,>=3.8->chatterbot) (0.1.5)\n",
            "Requirement already satisfied: click>=8.0.0 in /usr/local/lib/python3.11/dist-packages (from typer<1.0.0,>=0.3.0->spacy<3.9,>=3.8->chatterbot) (8.2.1)\n",
            "Requirement already satisfied: shellingham>=1.3.0 in /usr/local/lib/python3.11/dist-packages (from typer<1.0.0,>=0.3.0->spacy<3.9,>=3.8->chatterbot) (1.5.4)\n",
            "Requirement already satisfied: rich>=10.11.0 in /usr/local/lib/python3.11/dist-packages (from typer<1.0.0,>=0.3.0->spacy<3.9,>=3.8->chatterbot) (13.9.4)\n",
            "Requirement already satisfied: cloudpathlib<1.0.0,>=0.7.0 in /usr/local/lib/python3.11/dist-packages (from weasel<0.5.0,>=0.1.0->spacy<3.9,>=3.8->chatterbot) (0.21.1)\n",
            "Requirement already satisfied: smart-open<8.0.0,>=5.2.1 in /usr/local/lib/python3.11/dist-packages (from weasel<0.5.0,>=0.1.0->spacy<3.9,>=3.8->chatterbot) (7.3.0.post1)\n",
            "Requirement already satisfied: MarkupSafe>=2.0 in /usr/local/lib/python3.11/dist-packages (from jinja2->spacy<3.9,>=3.8->chatterbot) (3.0.2)\n",
            "Requirement already satisfied: marisa-trie>=1.1.0 in /usr/local/lib/python3.11/dist-packages (from language-data>=1.2->langcodes<4.0.0,>=3.2.0->spacy<3.9,>=3.8->chatterbot) (1.2.1)\n",
            "Requirement already satisfied: markdown-it-py>=2.2.0 in /usr/local/lib/python3.11/dist-packages (from rich>=10.11.0->typer<1.0.0,>=0.3.0->spacy<3.9,>=3.8->chatterbot) (3.0.0)\n",
            "Requirement already satisfied: pygments<3.0.0,>=2.13.0 in /usr/local/lib/python3.11/dist-packages (from rich>=10.11.0->typer<1.0.0,>=0.3.0->spacy<3.9,>=3.8->chatterbot) (2.19.2)\n",
            "Requirement already satisfied: wrapt in /usr/local/lib/python3.11/dist-packages (from smart-open<8.0.0,>=5.2.1->weasel<0.5.0,>=0.1.0->spacy<3.9,>=3.8->chatterbot) (1.17.2)\n",
            "Requirement already satisfied: mdurl~=0.1 in /usr/local/lib/python3.11/dist-packages (from markdown-it-py>=2.2.0->rich>=10.11.0->typer<1.0.0,>=0.3.0->spacy<3.9,>=3.8->chatterbot) (0.1.2)\n",
            "Downloading chatterbot-1.2.7-py3-none-any.whl (76 kB)\n",
            "\u001b[2K   \u001b[90m━━━━━━━━━━━━━━━━━━━━━━━━━━━━━━━━━━━━━━━━\u001b[0m \u001b[32m76.3/76.3 kB\u001b[0m \u001b[31m2.9 MB/s\u001b[0m eta \u001b[36m0:00:00\u001b[0m\n",
            "\u001b[?25hDownloading mathparse-0.1.5-py3-none-any.whl (8.8 kB)\n",
            "Installing collected packages: mathparse, chatterbot\n",
            "Successfully installed chatterbot-1.2.7 mathparse-0.1.5\n",
            "Collecting chatterbot_corpus\n",
            "  Downloading chatterbot_corpus-1.2.2-py2.py3-none-any.whl.metadata (1.1 kB)\n",
            "Downloading chatterbot_corpus-1.2.2-py2.py3-none-any.whl (240 kB)\n",
            "\u001b[2K   \u001b[90m━━━━━━━━━━━━━━━━━━━━━━━━━━━━━━━━━━━━━━━━\u001b[0m \u001b[32m240.5/240.5 kB\u001b[0m \u001b[31m3.4 MB/s\u001b[0m eta \u001b[36m0:00:00\u001b[0m\n",
            "\u001b[?25hInstalling collected packages: chatterbot_corpus\n",
            "Successfully installed chatterbot_corpus-1.2.2\n"
          ]
        }
      ],
      "source": [
        "!pip install chatterbot\n",
        "!pip install chatterbot_corpus\n"
      ]
    },
    {
      "cell_type": "markdown",
      "source": [
        "This will install ChatterBot and its corpus, which contains a collection of data that can be used to train the chatbot\n",
        "[Ref 1]"
      ],
      "metadata": {
        "id": "7LGigD49NAHq"
      }
    },
    {
      "cell_type": "markdown",
      "source": [
        "# **Basic Usage**\n",
        "\n",
        "Here is a simple example to get you started with ChatterBot:"
      ],
      "metadata": {
        "id": "ZekXKMYCNGcG"
      }
    },
    {
      "cell_type": "code",
      "source": [
        "from chatterbot import ChatBot\n",
        "from chatterbot.trainers import ChatterBotCorpusTrainer\n",
        "\n",
        "# Create a new chatbot instance\n",
        "chatbot = ChatBot('Ron Obvious')\n",
        "\n",
        "# Create a new trainer for the chatbot\n",
        "trainer = ChatterBotCorpusTrainer(chatbot)\n",
        "\n",
        "# Train the chatbot based on the English corpus\n",
        "trainer.train(\"chatterbot.corpus.english.greetings\",\n",
        "              \"chatterbot.corpus.english.conversations\")\n",
        "\n",
        "\n",
        "# Get a response to an input statement #1\n",
        "input_str = \"Good morning! How are you doing?\"\n",
        "print(\"user: \", input_str)\n",
        "response = chatbot.get_response(input_str)\n",
        "print(\"Cbot: \", response)\n",
        "\n",
        "# Get a response to an input statement #2\n",
        "input_str = \"Is all well?\"\n",
        "print(\"user: \", input_str)\n",
        "response = chatbot.get_response(input_str)\n",
        "print(\"Cbot: \", response)\n",
        "\n",
        "# Get a response to an input statement #3\n",
        "input_str = \"What is your name?\"\n",
        "print(\"user: \", input_str)\n",
        "response = chatbot.get_response(input_str)\n",
        "print(\"Cbot: \", response)\n",
        "\n",
        "# Get a response to an input statement #4\n",
        "input_str = \"What is your number?\"\n",
        "print(\"user: \", input_str)\n",
        "response = chatbot.get_response(input_str)\n",
        "print(\"Cbot: \", response)\n",
        "\n",
        "# Get a response to an input statement #5\n",
        "input_str = \"Who are you?\"\n",
        "print(\"user: \", input_str)\n",
        "response = chatbot.get_response(input_str)\n",
        "print(\"Cbot: \", response)"
      ],
      "metadata": {
        "colab": {
          "base_uri": "https://localhost:8080/"
        },
        "id": "qNZUyRCgNJLM",
        "outputId": "205445e3-b6bb-4017-c1a9-e9979a981b2e"
      },
      "execution_count": null,
      "outputs": [
        {
          "output_type": "stream",
          "name": "stderr",
          "text": [
            "ChatterBot Corpus Trainer: 2it [00:00,  3.61it/s]\n"
          ]
        },
        {
          "output_type": "stream",
          "name": "stdout",
          "text": [
            "user:  Good morning! How are you doing?\n",
            "Cbot:  Good Morning! I am perfectly good\n",
            "user:  Is all well?\n",
            "Cbot:  Yes, all is well and great\n",
            "user:  What is your name?\n",
            "Cbot:  I'm MathiBot.\n",
            "user:  What is your number?\n",
            "Cbot:  I'm MathiBot.\n",
            "user:  Who are you?\n",
            "Cbot:  Who? Who is but a form following the function of what\n"
          ]
        }
      ]
    },
    {
      "cell_type": "markdown",
      "source": [
        "In this example, we create a new chatbot named 'Ron Obvious' and train it using the English corpus provided by ChatterBot\n",
        "Ref 1"
      ],
      "metadata": {
        "id": "3_Y6T0Y1NRSO"
      }
    },
    {
      "cell_type": "markdown",
      "source": [
        "# **Training with Custom Data**"
      ],
      "metadata": {
        "id": "Rgjx_N-5SjJf"
      }
    },
    {
      "cell_type": "code",
      "source": [
        "from chatterbot import ChatBot\n",
        "from chatterbot.trainers import ListTrainer\n",
        "\n",
        "# Create a new chatbot instance\n",
        "chatbot = ChatBot('CustomBot')\n",
        "\n",
        "# Create a new trainer for the chatbot\n",
        "trainer = ListTrainer(chatbot)\n",
        "\n",
        "# Train the chatbot with custom data\n",
        "trainer.train([\n",
        "\"Hi\", \"Hello\",\n",
        "\"How are you?\", \"I'm good, thank you!\",\n",
        "\"What's your name?\", \"I'm MathiBot.\",\n",
        "\"Hi Dude\", \"Welcome, friend 🤗\",\n",
        "\"Are you an AI Bot?\", \"No, I'm just a beginner bot, yet to become AI Bot\",\n",
        "\"Good morning! How are you doing?\", \"Good Morning! I am perfectly good\",\n",
        "\"Is all well?\",\"Yes, all is well and great\"\n",
        "])\n",
        "\n",
        "# Get a response to an input statement #1\n",
        "input_str = \"Good morning! How are you doing?\"\n",
        "print(\"user: \", input_str)\n",
        "response = chatbot.get_response(input_str)\n",
        "print(\"Cbot: \", response)\n",
        "\n",
        "# Get a response to an input statement #2\n",
        "input_str = \"Is all well?\"\n",
        "print(\"user: \", input_str)\n",
        "response = chatbot.get_response(input_str)\n",
        "print(\"Cbot: \", response)\n",
        "\n",
        "# Get a response to an input statement #3\n",
        "input_str = \"What is your name?\"\n",
        "print(\"user: \", input_str)\n",
        "response = chatbot.get_response(input_str)\n",
        "print(\"Cbot: \", response)\n",
        "\n",
        "# Get a response to an input statement #4\n",
        "input_str = \"What is your number?\"\n",
        "print(\"user: \", input_str)\n",
        "response = chatbot.get_response(input_str)\n",
        "print(\"Cbot: \", response)\n",
        "\n",
        "# Get a response to an input statement #5\n",
        "input_str = \"Who are you?\"\n",
        "print(\"user: \", input_str)\n",
        "response = chatbot.get_response(input_str)\n",
        "print(\"Cbot: \", response)"
      ],
      "metadata": {
        "colab": {
          "base_uri": "https://localhost:8080/"
        },
        "id": "mhdFkOvpSrpD",
        "outputId": "1bde5634-0e66-4fa6-fd92-e8350976200d"
      },
      "execution_count": null,
      "outputs": [
        {
          "output_type": "stream",
          "name": "stderr",
          "text": [
            "List Trainer: 14it [00:00, 870.16it/s]\n"
          ]
        },
        {
          "output_type": "stream",
          "name": "stdout",
          "text": [
            "user:  Good morning! How are you doing?\n",
            "Cbot:  Good Morning! I am perfectly good\n",
            "user:  Is all well?\n",
            "Cbot:  Yes, all is well and great\n",
            "user:  What is your name?\n",
            "Cbot:  I'm MathiBot.\n",
            "user:  What is your number?\n",
            "Cbot:  I'm MathiBot.\n",
            "user:  Who are you?\n",
            "Cbot:  Who? Who is but a form following the function of what\n"
          ]
        }
      ]
    },
    {
      "cell_type": "markdown",
      "source": [
        "In this example, we use the ListTrainer to train the chatbot with a custom list of conversations Ref 2"
      ],
      "metadata": {
        "id": "CTr89SgTTcof"
      }
    },
    {
      "cell_type": "markdown",
      "source": [
        "# **Advanced Features**\n",
        "\n",
        "ChatterBot provides several advanced features, such as:\n",
        "\n",
        "**Storage Adapters: **These allow you to connect to different storage units or networks. For example, you can use the SQL Storage Adapter to connect to a SQL database Ref 3\n",
        "\n",
        "**Logic Adapters: **These regulate the logic behind the chatbot, determining how it responds to inputs. You can use multiple logic adapters to improve the chatbot's responses Ref 3\n",
        "\n",
        "**Preprocessors:** These modify user input before sending it to a logic adapter. You can use built-in preprocessors or create custom ones Ref 2\n",
        "\n",
        "**Conclusion**\n",
        "\n",
        "ChatterBot is a powerful and flexible library for building chatbots in Python. By understanding its basic usage and advanced features, you can create chatbots that provide meaningful and relevant responses to user inputs. Whether you are building a simple chatbot for fun or a complex one for a specific industry, ChatterBot provides the tools you need to get started Ref 1 2 3"
      ],
      "metadata": {
        "id": "30q8eXNlTfW4"
      }
    }
  ]
}